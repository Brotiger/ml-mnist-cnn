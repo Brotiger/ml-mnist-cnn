{
 "cells": [
  {
   "cell_type": "code",
   "execution_count": 1,
   "id": "27a2620a",
   "metadata": {
    "_cell_guid": "b1076dfc-b9ad-4769-8c92-a6c4dae69d19",
    "_uuid": "8f2839f25d086af736a60e9eeb907d3b93b6e0e5",
    "execution": {
     "iopub.execute_input": "2024-04-20T18:01:52.800136Z",
     "iopub.status.busy": "2024-04-20T18:01:52.799285Z",
     "iopub.status.idle": "2024-04-20T18:02:01.713433Z",
     "shell.execute_reply": "2024-04-20T18:02:01.712142Z"
    },
    "papermill": {
     "duration": 8.924016,
     "end_time": "2024-04-20T18:02:01.716131",
     "exception": false,
     "start_time": "2024-04-20T18:01:52.792115",
     "status": "completed"
    },
    "tags": []
   },
   "outputs": [],
   "source": [
    "import numpy as np\n",
    "import pandas as pd\n",
    "from matplotlib import pyplot as plt\n",
    "\n",
    "from sklearn.model_selection import train_test_split\n",
    "\n",
    "import torch\n",
    "from torch import nn\n",
    "from torch.nn import functional as F\n",
    "\n",
    "import torchvision.transforms as tfs\n",
    "from torch.utils.data import TensorDataset, DataLoader, Dataset"
   ]
  },
  {
   "cell_type": "code",
   "execution_count": 2,
   "id": "9f5dc6b6",
   "metadata": {
    "execution": {
     "iopub.execute_input": "2024-04-20T18:02:01.728217Z",
     "iopub.status.busy": "2024-04-20T18:02:01.727681Z",
     "iopub.status.idle": "2024-04-20T18:02:01.733361Z",
     "shell.execute_reply": "2024-04-20T18:02:01.732186Z"
    },
    "papermill": {
     "duration": 0.014054,
     "end_time": "2024-04-20T18:02:01.735700",
     "exception": false,
     "start_time": "2024-04-20T18:02:01.721646",
     "status": "completed"
    },
    "tags": []
   },
   "outputs": [],
   "source": [
    "data_tfs = tfs.Compose([\n",
    "    tfs.ToTensor(),\n",
    "    tfs.Normalize(0.5, 0.5)\n",
    "])"
   ]
  },
  {
   "cell_type": "code",
   "execution_count": 3,
   "id": "b6d02528",
   "metadata": {
    "execution": {
     "iopub.execute_input": "2024-04-20T18:02:01.748356Z",
     "iopub.status.busy": "2024-04-20T18:02:01.747627Z",
     "iopub.status.idle": "2024-04-20T18:02:05.366566Z",
     "shell.execute_reply": "2024-04-20T18:02:05.365361Z"
    },
    "papermill": {
     "duration": 3.628727,
     "end_time": "2024-04-20T18:02:05.369448",
     "exception": false,
     "start_time": "2024-04-20T18:02:01.740721",
     "status": "completed"
    },
    "tags": []
   },
   "outputs": [
    {
     "data": {
      "text/html": [
       "<div>\n",
       "<style scoped>\n",
       "    .dataframe tbody tr th:only-of-type {\n",
       "        vertical-align: middle;\n",
       "    }\n",
       "\n",
       "    .dataframe tbody tr th {\n",
       "        vertical-align: top;\n",
       "    }\n",
       "\n",
       "    .dataframe thead th {\n",
       "        text-align: right;\n",
       "    }\n",
       "</style>\n",
       "<table border=\"1\" class=\"dataframe\">\n",
       "  <thead>\n",
       "    <tr style=\"text-align: right;\">\n",
       "      <th></th>\n",
       "      <th>pixel0</th>\n",
       "      <th>pixel1</th>\n",
       "      <th>pixel2</th>\n",
       "      <th>pixel3</th>\n",
       "      <th>pixel4</th>\n",
       "      <th>pixel5</th>\n",
       "      <th>pixel6</th>\n",
       "      <th>pixel7</th>\n",
       "      <th>pixel8</th>\n",
       "      <th>pixel9</th>\n",
       "      <th>...</th>\n",
       "      <th>pixel774</th>\n",
       "      <th>pixel775</th>\n",
       "      <th>pixel776</th>\n",
       "      <th>pixel777</th>\n",
       "      <th>pixel778</th>\n",
       "      <th>pixel779</th>\n",
       "      <th>pixel780</th>\n",
       "      <th>pixel781</th>\n",
       "      <th>pixel782</th>\n",
       "      <th>pixel783</th>\n",
       "    </tr>\n",
       "  </thead>\n",
       "  <tbody>\n",
       "    <tr>\n",
       "      <th>0</th>\n",
       "      <td>0</td>\n",
       "      <td>0</td>\n",
       "      <td>0</td>\n",
       "      <td>0</td>\n",
       "      <td>0</td>\n",
       "      <td>0</td>\n",
       "      <td>0</td>\n",
       "      <td>0</td>\n",
       "      <td>0</td>\n",
       "      <td>0</td>\n",
       "      <td>...</td>\n",
       "      <td>0</td>\n",
       "      <td>0</td>\n",
       "      <td>0</td>\n",
       "      <td>0</td>\n",
       "      <td>0</td>\n",
       "      <td>0</td>\n",
       "      <td>0</td>\n",
       "      <td>0</td>\n",
       "      <td>0</td>\n",
       "      <td>0</td>\n",
       "    </tr>\n",
       "    <tr>\n",
       "      <th>1</th>\n",
       "      <td>0</td>\n",
       "      <td>0</td>\n",
       "      <td>0</td>\n",
       "      <td>0</td>\n",
       "      <td>0</td>\n",
       "      <td>0</td>\n",
       "      <td>0</td>\n",
       "      <td>0</td>\n",
       "      <td>0</td>\n",
       "      <td>0</td>\n",
       "      <td>...</td>\n",
       "      <td>0</td>\n",
       "      <td>0</td>\n",
       "      <td>0</td>\n",
       "      <td>0</td>\n",
       "      <td>0</td>\n",
       "      <td>0</td>\n",
       "      <td>0</td>\n",
       "      <td>0</td>\n",
       "      <td>0</td>\n",
       "      <td>0</td>\n",
       "    </tr>\n",
       "    <tr>\n",
       "      <th>2</th>\n",
       "      <td>0</td>\n",
       "      <td>0</td>\n",
       "      <td>0</td>\n",
       "      <td>0</td>\n",
       "      <td>0</td>\n",
       "      <td>0</td>\n",
       "      <td>0</td>\n",
       "      <td>0</td>\n",
       "      <td>0</td>\n",
       "      <td>0</td>\n",
       "      <td>...</td>\n",
       "      <td>0</td>\n",
       "      <td>0</td>\n",
       "      <td>0</td>\n",
       "      <td>0</td>\n",
       "      <td>0</td>\n",
       "      <td>0</td>\n",
       "      <td>0</td>\n",
       "      <td>0</td>\n",
       "      <td>0</td>\n",
       "      <td>0</td>\n",
       "    </tr>\n",
       "    <tr>\n",
       "      <th>3</th>\n",
       "      <td>0</td>\n",
       "      <td>0</td>\n",
       "      <td>0</td>\n",
       "      <td>0</td>\n",
       "      <td>0</td>\n",
       "      <td>0</td>\n",
       "      <td>0</td>\n",
       "      <td>0</td>\n",
       "      <td>0</td>\n",
       "      <td>0</td>\n",
       "      <td>...</td>\n",
       "      <td>0</td>\n",
       "      <td>0</td>\n",
       "      <td>0</td>\n",
       "      <td>0</td>\n",
       "      <td>0</td>\n",
       "      <td>0</td>\n",
       "      <td>0</td>\n",
       "      <td>0</td>\n",
       "      <td>0</td>\n",
       "      <td>0</td>\n",
       "    </tr>\n",
       "    <tr>\n",
       "      <th>4</th>\n",
       "      <td>0</td>\n",
       "      <td>0</td>\n",
       "      <td>0</td>\n",
       "      <td>0</td>\n",
       "      <td>0</td>\n",
       "      <td>0</td>\n",
       "      <td>0</td>\n",
       "      <td>0</td>\n",
       "      <td>0</td>\n",
       "      <td>0</td>\n",
       "      <td>...</td>\n",
       "      <td>0</td>\n",
       "      <td>0</td>\n",
       "      <td>0</td>\n",
       "      <td>0</td>\n",
       "      <td>0</td>\n",
       "      <td>0</td>\n",
       "      <td>0</td>\n",
       "      <td>0</td>\n",
       "      <td>0</td>\n",
       "      <td>0</td>\n",
       "    </tr>\n",
       "  </tbody>\n",
       "</table>\n",
       "<p>5 rows × 784 columns</p>\n",
       "</div>"
      ],
      "text/plain": [
       "   pixel0  pixel1  pixel2  pixel3  pixel4  pixel5  pixel6  pixel7  pixel8  \\\n",
       "0       0       0       0       0       0       0       0       0       0   \n",
       "1       0       0       0       0       0       0       0       0       0   \n",
       "2       0       0       0       0       0       0       0       0       0   \n",
       "3       0       0       0       0       0       0       0       0       0   \n",
       "4       0       0       0       0       0       0       0       0       0   \n",
       "\n",
       "   pixel9  ...  pixel774  pixel775  pixel776  pixel777  pixel778  pixel779  \\\n",
       "0       0  ...         0         0         0         0         0         0   \n",
       "1       0  ...         0         0         0         0         0         0   \n",
       "2       0  ...         0         0         0         0         0         0   \n",
       "3       0  ...         0         0         0         0         0         0   \n",
       "4       0  ...         0         0         0         0         0         0   \n",
       "\n",
       "   pixel780  pixel781  pixel782  pixel783  \n",
       "0         0         0         0         0  \n",
       "1         0         0         0         0  \n",
       "2         0         0         0         0  \n",
       "3         0         0         0         0  \n",
       "4         0         0         0         0  \n",
       "\n",
       "[5 rows x 784 columns]"
      ]
     },
     "execution_count": 3,
     "metadata": {},
     "output_type": "execute_result"
    }
   ],
   "source": [
    "train_data = pd.read_csv(\"/kaggle/input/digit-recognizer/train.csv\")\n",
    "labels = train_data['label']\n",
    "train_data = train_data.drop(columns=[\"label\"])\n",
    "train_data.head()"
   ]
  },
  {
   "cell_type": "code",
   "execution_count": 4,
   "id": "40d0befb",
   "metadata": {
    "execution": {
     "iopub.execute_input": "2024-04-20T18:02:05.381914Z",
     "iopub.status.busy": "2024-04-20T18:02:05.380885Z",
     "iopub.status.idle": "2024-04-20T18:02:05.696362Z",
     "shell.execute_reply": "2024-04-20T18:02:05.695261Z"
    },
    "papermill": {
     "duration": 0.324337,
     "end_time": "2024-04-20T18:02:05.698943",
     "exception": false,
     "start_time": "2024-04-20T18:02:05.374606",
     "status": "completed"
    },
    "tags": []
   },
   "outputs": [
    {
     "data": {
      "text/plain": [
       "<matplotlib.image.AxesImage at 0x7c6cbdf491b0>"
      ]
     },
     "execution_count": 4,
     "metadata": {},
     "output_type": "execute_result"
    },
    {
     "data": {
      "image/png": "[encoded data removed]",
      "text/plain": [
       "<Figure size 800x800 with 1 Axes>"
      ]
     },
     "metadata": {},
     "output_type": "display_data"
    }
   ],
   "source": [
    "plt.figure(figsize=(8, 8))\n",
    "plt.imshow(train_data.to_numpy()[0].reshape((28, 28)), cmap='gray')"
   ]
  },
  {
   "cell_type": "code",
   "execution_count": 5,
   "id": "d2d4f9af",
   "metadata": {
    "execution": {
     "iopub.execute_input": "2024-04-20T18:02:05.712213Z",
     "iopub.status.busy": "2024-04-20T18:02:05.711821Z",
     "iopub.status.idle": "2024-04-20T18:02:05.719199Z",
     "shell.execute_reply": "2024-04-20T18:02:05.718115Z"
    },
    "papermill": {
     "duration": 0.016737,
     "end_time": "2024-04-20T18:02:05.721376",
     "exception": false,
     "start_time": "2024-04-20T18:02:05.704639",
     "status": "completed"
    },
    "tags": []
   },
   "outputs": [],
   "source": [
    "class TrainDataset(Dataset):\n",
    "    def __init__(self, data, labels=None, transform=None):\n",
    "        self.data, self.labels = data, labels\n",
    "        self.transform = transform\n",
    "\n",
    "    def __len__(self):\n",
    "        return self.data.shape[0]\n",
    "    \n",
    "    def __getitem__(self, index):\n",
    "        image = np.expand_dims((self.data[index].reshape(28, 28)), axis=-1)\n",
    "        label = None\n",
    "        \n",
    "        if self.labels is not None:\n",
    "            label = self.labels[index]\n",
    "            \n",
    "        if self.transform is not None:\n",
    "            image = self.transform(image)\n",
    "            \n",
    "        return image, label\n",
    "    "
   ]
  },
  {
   "cell_type": "code",
   "execution_count": 6,
   "id": "57c0ed1e",
   "metadata": {
    "execution": {
     "iopub.execute_input": "2024-04-20T18:02:05.733964Z",
     "iopub.status.busy": "2024-04-20T18:02:05.733565Z",
     "iopub.status.idle": "2024-04-20T18:02:05.849651Z",
     "shell.execute_reply": "2024-04-20T18:02:05.848653Z"
    },
    "papermill": {
     "duration": 0.125451,
     "end_time": "2024-04-20T18:02:05.852313",
     "exception": false,
     "start_time": "2024-04-20T18:02:05.726862",
     "status": "completed"
    },
    "tags": []
   },
   "outputs": [],
   "source": [
    "train_dataset = TrainDataset(train_data.to_numpy().astype(np.float32), labels.to_numpy().astype(np.float32), transform=data_tfs)\n",
    "\n",
    "train_size = int(len(train_data) * 0.8)\n",
    "val_size = len(train_data) - train_size\n",
    "\n",
    "train_dataset, val_dataset = torch.utils.data.random_split(train_dataset, [train_size, val_size])\n",
    "\n",
    "train_loader = torch.utils.data.DataLoader(train_dataset, batch_size=64, shuffle=True, pin_memory=True)\n",
    "val_loader = torch.utils.data.DataLoader(val_dataset, batch_size=64, shuffle=False, pin_memory=False)\n",
    "\n",
    "loaders = {\"train\": train_loader, \"valid\": val_loader}"
   ]
  },
  {
   "cell_type": "code",
   "execution_count": 7,
   "id": "11ba1d3b",
   "metadata": {
    "execution": {
     "iopub.execute_input": "2024-04-20T18:02:05.864854Z",
     "iopub.status.busy": "2024-04-20T18:02:05.864367Z",
     "iopub.status.idle": "2024-04-20T18:02:05.870609Z",
     "shell.execute_reply": "2024-04-20T18:02:05.869655Z"
    },
    "papermill": {
     "duration": 0.015119,
     "end_time": "2024-04-20T18:02:05.872897",
     "exception": false,
     "start_time": "2024-04-20T18:02:05.857778",
     "status": "completed"
    },
    "tags": []
   },
   "outputs": [],
   "source": [
    "device = \"cuda\" if torch.cuda.is_available() else \"cpu\""
   ]
  },
  {
   "cell_type": "code",
   "execution_count": 8,
   "id": "6e2abbbf",
   "metadata": {
    "execution": {
     "iopub.execute_input": "2024-04-20T18:02:05.885746Z",
     "iopub.status.busy": "2024-04-20T18:02:05.884870Z",
     "iopub.status.idle": "2024-04-20T18:02:05.924844Z",
     "shell.execute_reply": "2024-04-20T18:02:05.923640Z"
    },
    "papermill": {
     "duration": 0.049167,
     "end_time": "2024-04-20T18:02:05.927520",
     "exception": false,
     "start_time": "2024-04-20T18:02:05.878353",
     "status": "completed"
    },
    "tags": []
   },
   "outputs": [],
   "source": [
    "model = nn.Sequential(\n",
    "    nn.Conv2d(1, 6, 3, padding=1), #28x28\n",
    "    nn.ReLU(),\n",
    "    nn.MaxPool2d(2), #14x14\n",
    "    nn.Conv2d(6, 16, 3, padding=1), #14x14\n",
    "    nn.ReLU(),\n",
    "    nn.MaxPool2d(2), #7x7\n",
    "    nn.Flatten(),\n",
    "    nn.Linear(16 * 7 * 7, 480),\n",
    "    nn.ReLU(),\n",
    "    nn.Linear(480, 480),\n",
    "    nn.ReLU(),\n",
    "    nn.Linear(480, 10)\n",
    ")\n",
    "\n",
    "model.to(device)\n",
    "fLoss = nn.CrossEntropyLoss()\n",
    "optimizer = torch.optim.Adam(model.parameters())"
   ]
  },
  {
   "cell_type": "code",
   "execution_count": 9,
   "id": "9f7888c2",
   "metadata": {
    "execution": {
     "iopub.execute_input": "2024-04-20T18:02:05.940196Z",
     "iopub.status.busy": "2024-04-20T18:02:05.939813Z",
     "iopub.status.idle": "2024-04-20T18:04:13.822766Z",
     "shell.execute_reply": "2024-04-20T18:04:13.821476Z"
    },
    "papermill": {
     "duration": 127.892078,
     "end_time": "2024-04-20T18:04:13.825085",
     "exception": false,
     "start_time": "2024-04-20T18:02:05.933007",
     "status": "completed"
    },
    "tags": []
   },
   "outputs": [
    {
     "name": "stdout",
     "output_type": "stream",
     "text": [
      "Epoch: 1\n",
      "Loader: train, accuracy 0.9367857142857143, loss: 0.2704419681660476\n",
      "Loader: valid, accuracy 0.973452380952381, loss: 0.08598389910449358\n",
      "Epoch: 2\n",
      "Loader: train, accuracy 0.9800595238095238, loss: 0.06417842014182713\n",
      "Loader: valid, accuracy 0.979047619047619, loss: 0.07334966834980261\n",
      "Epoch: 3\n",
      "Loader: train, accuracy 0.9854464285714286, loss: 0.04474430169899105\n",
      "Loader: valid, accuracy 0.9782142857142857, loss: 0.08227108868639775\n",
      "Epoch: 4\n",
      "Loader: train, accuracy 0.9880952380952381, loss: 0.03772637243916203\n",
      "Loader: valid, accuracy 0.9755952380952381, loss: 0.09866860818036718\n",
      "Epoch: 5\n",
      "Loader: train, accuracy 0.9904761904761905, loss: 0.031168193998919812\n",
      "Loader: valid, accuracy 0.9791666666666666, loss: 0.0908441021659228\n",
      "Epoch: 6\n",
      "Loader: train, accuracy 0.9900595238095238, loss: 0.03202231754023593\n",
      "Loader: valid, accuracy 0.976547619047619, loss: 0.10297652956973197\n",
      "Epoch: 7\n",
      "Loader: train, accuracy 0.992827380952381, loss: 0.024806863972196534\n",
      "Loader: valid, accuracy 0.9711904761904762, loss: 0.12366699609926647\n",
      "Epoch: 8\n",
      "Loader: train, accuracy 0.9927976190476191, loss: 0.024519642085066327\n",
      "Loader: valid, accuracy 0.9763095238095238, loss: 0.09291278513476507\n",
      "Epoch: 9\n",
      "Loader: train, accuracy 0.994077380952381, loss: 0.018757896028651626\n",
      "Loader: valid, accuracy 0.9792857142857143, loss: 0.14269899018064747\n",
      "Epoch: 10\n",
      "Loader: train, accuracy 0.9931845238095238, loss: 0.022525473405732903\n",
      "Loader: valid, accuracy 0.9802380952380952, loss: 0.11224988850037307\n"
     ]
    }
   ],
   "source": [
    "accurancy = {\"train\": [], \"valid\": []}\n",
    "losses = {\"train\": [], \"valid\": []}\n",
    "\n",
    "max_epochs = 10\n",
    "for epoch in range(max_epochs):\n",
    "    print(f'Epoch: {epoch + 1}')\n",
    "    for k, dataloader in loaders.items():\n",
    "        epoch_all = 0\n",
    "        epoch_currect = 0\n",
    "        epoch_loss = []\n",
    "        for x_batch, y_batch in dataloader:\n",
    "            x_batch = x_batch.to(device)\n",
    "            y_batch = y_batch.type(torch.LongTensor).to(device)\n",
    "            if k == \"train\":\n",
    "                model.train()\n",
    "                outp = model(x_batch)\n",
    "            else:\n",
    "                model.eval()\n",
    "                with torch.no_grad():\n",
    "                    outp = model(x_batch)\n",
    "            \n",
    "            loss = fLoss(outp, y_batch)\n",
    "            epoch_loss.append(loss.detach().item())\n",
    "            \n",
    "            if k == \"train\":\n",
    "                optimizer.zero_grad()\n",
    "                loss.backward()\n",
    "                optimizer.step()\n",
    "                    \n",
    "            preds = outp.argmax(1)\n",
    "            epoch_currect += (preds.flatten() == y_batch).type(torch.float32).sum().item()\n",
    "            epoch_all += y_batch.shape[0]\n",
    "            \n",
    "        acc = epoch_currect/epoch_all\n",
    "        loss = np.mean(epoch_loss)\n",
    "        losses[k].append(loss)\n",
    "        accurancy[k].append(acc)\n",
    "        print(f'Loader: {k}, accuracy {acc}, loss: {loss}')"
   ]
  },
  {
   "cell_type": "code",
   "execution_count": 10,
   "id": "46212100",
   "metadata": {
    "execution": {
     "iopub.execute_input": "2024-04-20T18:04:13.840729Z",
     "iopub.status.busy": "2024-04-20T18:04:13.840323Z",
     "iopub.status.idle": "2024-04-20T18:04:14.171051Z",
     "shell.execute_reply": "2024-04-20T18:04:14.170223Z"
    },
    "papermill": {
     "duration": 0.341614,
     "end_time": "2024-04-20T18:04:14.173625",
     "exception": false,
     "start_time": "2024-04-20T18:04:13.832011",
     "status": "completed"
    },
    "tags": []
   },
   "outputs": [
    {
     "data": {
      "image/png": "[encoded data removed]",
      "text/plain": [
       "<Figure size 1600x1000 with 1 Axes>"
      ]
     },
     "metadata": {},
     "output_type": "display_data"
    }
   ],
   "source": [
    "plt.figure(figsize=(16, 10))\n",
    "plt.title(\"accuracy\")\n",
    "plt.plot(range(max_epochs), accurancy['train'], label='train', linewidth=2)\n",
    "plt.plot(range(max_epochs), accurancy['valid'], label='valid', linewidth=2)\n",
    "plt.legend()\n",
    "plt.xlabel('epoch')\n",
    "plt.show()"
   ]
  },
  {
   "cell_type": "code",
   "execution_count": 11,
   "id": "94b219f8",
   "metadata": {
    "execution": {
     "iopub.execute_input": "2024-04-20T18:04:14.191173Z",
     "iopub.status.busy": "2024-04-20T18:04:14.190242Z",
     "iopub.status.idle": "2024-04-20T18:04:14.509698Z",
     "shell.execute_reply": "2024-04-20T18:04:14.508780Z"
    },
    "papermill": {
     "duration": 0.330422,
     "end_time": "2024-04-20T18:04:14.511770",
     "exception": false,
     "start_time": "2024-04-20T18:04:14.181348",
     "status": "completed"
    },
    "tags": []
   },
   "outputs": [
    {
     "data": {
      "image/png": "[encoded data removed]",
      "text/plain": [
       "<Figure size 1600x1000 with 1 Axes>"
      ]
     },
     "metadata": {},
     "output_type": "display_data"
    }
   ],
   "source": [
    "plt.figure(figsize=(16, 10))\n",
    "plt.title(\"loss\")\n",
    "plt.plot(range(max_epochs), losses['train'], label='train', linewidth=2)\n",
    "plt.plot(range(max_epochs), losses['valid'], label='valid', linewidth=2)\n",
    "plt.legend()\n",
    "plt.xlabel('epoch')\n",
    "plt.show()"
   ]
  },
  {
   "cell_type": "code",
   "execution_count": 12,
   "id": "aa9dbf80",
   "metadata": {
    "execution": {
     "iopub.execute_input": "2024-04-20T18:04:14.530624Z",
     "iopub.status.busy": "2024-04-20T18:04:14.529937Z",
     "iopub.status.idle": "2024-04-20T18:04:16.435915Z",
     "shell.execute_reply": "2024-04-20T18:04:16.434807Z"
    },
    "papermill": {
     "duration": 1.918022,
     "end_time": "2024-04-20T18:04:16.438146",
     "exception": false,
     "start_time": "2024-04-20T18:04:14.520124",
     "status": "completed"
    },
    "tags": []
   },
   "outputs": [
    {
     "data": {
      "text/html": [
       "<div>\n",
       "<style scoped>\n",
       "    .dataframe tbody tr th:only-of-type {\n",
       "        vertical-align: middle;\n",
       "    }\n",
       "\n",
       "    .dataframe tbody tr th {\n",
       "        vertical-align: top;\n",
       "    }\n",
       "\n",
       "    .dataframe thead th {\n",
       "        text-align: right;\n",
       "    }\n",
       "</style>\n",
       "<table border=\"1\" class=\"dataframe\">\n",
       "  <thead>\n",
       "    <tr style=\"text-align: right;\">\n",
       "      <th></th>\n",
       "      <th>pixel0</th>\n",
       "      <th>pixel1</th>\n",
       "      <th>pixel2</th>\n",
       "      <th>pixel3</th>\n",
       "      <th>pixel4</th>\n",
       "      <th>pixel5</th>\n",
       "      <th>pixel6</th>\n",
       "      <th>pixel7</th>\n",
       "      <th>pixel8</th>\n",
       "      <th>pixel9</th>\n",
       "      <th>...</th>\n",
       "      <th>pixel774</th>\n",
       "      <th>pixel775</th>\n",
       "      <th>pixel776</th>\n",
       "      <th>pixel777</th>\n",
       "      <th>pixel778</th>\n",
       "      <th>pixel779</th>\n",
       "      <th>pixel780</th>\n",
       "      <th>pixel781</th>\n",
       "      <th>pixel782</th>\n",
       "      <th>pixel783</th>\n",
       "    </tr>\n",
       "  </thead>\n",
       "  <tbody>\n",
       "    <tr>\n",
       "      <th>0</th>\n",
       "      <td>0</td>\n",
       "      <td>0</td>\n",
       "      <td>0</td>\n",
       "      <td>0</td>\n",
       "      <td>0</td>\n",
       "      <td>0</td>\n",
       "      <td>0</td>\n",
       "      <td>0</td>\n",
       "      <td>0</td>\n",
       "      <td>0</td>\n",
       "      <td>...</td>\n",
       "      <td>0</td>\n",
       "      <td>0</td>\n",
       "      <td>0</td>\n",
       "      <td>0</td>\n",
       "      <td>0</td>\n",
       "      <td>0</td>\n",
       "      <td>0</td>\n",
       "      <td>0</td>\n",
       "      <td>0</td>\n",
       "      <td>0</td>\n",
       "    </tr>\n",
       "    <tr>\n",
       "      <th>1</th>\n",
       "      <td>0</td>\n",
       "      <td>0</td>\n",
       "      <td>0</td>\n",
       "      <td>0</td>\n",
       "      <td>0</td>\n",
       "      <td>0</td>\n",
       "      <td>0</td>\n",
       "      <td>0</td>\n",
       "      <td>0</td>\n",
       "      <td>0</td>\n",
       "      <td>...</td>\n",
       "      <td>0</td>\n",
       "      <td>0</td>\n",
       "      <td>0</td>\n",
       "      <td>0</td>\n",
       "      <td>0</td>\n",
       "      <td>0</td>\n",
       "      <td>0</td>\n",
       "      <td>0</td>\n",
       "      <td>0</td>\n",
       "      <td>0</td>\n",
       "    </tr>\n",
       "    <tr>\n",
       "      <th>2</th>\n",
       "      <td>0</td>\n",
       "      <td>0</td>\n",
       "      <td>0</td>\n",
       "      <td>0</td>\n",
       "      <td>0</td>\n",
       "      <td>0</td>\n",
       "      <td>0</td>\n",
       "      <td>0</td>\n",
       "      <td>0</td>\n",
       "      <td>0</td>\n",
       "      <td>...</td>\n",
       "      <td>0</td>\n",
       "      <td>0</td>\n",
       "      <td>0</td>\n",
       "      <td>0</td>\n",
       "      <td>0</td>\n",
       "      <td>0</td>\n",
       "      <td>0</td>\n",
       "      <td>0</td>\n",
       "      <td>0</td>\n",
       "      <td>0</td>\n",
       "    </tr>\n",
       "    <tr>\n",
       "      <th>3</th>\n",
       "      <td>0</td>\n",
       "      <td>0</td>\n",
       "      <td>0</td>\n",
       "      <td>0</td>\n",
       "      <td>0</td>\n",
       "      <td>0</td>\n",
       "      <td>0</td>\n",
       "      <td>0</td>\n",
       "      <td>0</td>\n",
       "      <td>0</td>\n",
       "      <td>...</td>\n",
       "      <td>0</td>\n",
       "      <td>0</td>\n",
       "      <td>0</td>\n",
       "      <td>0</td>\n",
       "      <td>0</td>\n",
       "      <td>0</td>\n",
       "      <td>0</td>\n",
       "      <td>0</td>\n",
       "      <td>0</td>\n",
       "      <td>0</td>\n",
       "    </tr>\n",
       "    <tr>\n",
       "      <th>4</th>\n",
       "      <td>0</td>\n",
       "      <td>0</td>\n",
       "      <td>0</td>\n",
       "      <td>0</td>\n",
       "      <td>0</td>\n",
       "      <td>0</td>\n",
       "      <td>0</td>\n",
       "      <td>0</td>\n",
       "      <td>0</td>\n",
       "      <td>0</td>\n",
       "      <td>...</td>\n",
       "      <td>0</td>\n",
       "      <td>0</td>\n",
       "      <td>0</td>\n",
       "      <td>0</td>\n",
       "      <td>0</td>\n",
       "      <td>0</td>\n",
       "      <td>0</td>\n",
       "      <td>0</td>\n",
       "      <td>0</td>\n",
       "      <td>0</td>\n",
       "    </tr>\n",
       "  </tbody>\n",
       "</table>\n",
       "<p>5 rows × 784 columns</p>\n",
       "</div>"
      ],
      "text/plain": [
       "   pixel0  pixel1  pixel2  pixel3  pixel4  pixel5  pixel6  pixel7  pixel8  \\\n",
       "0       0       0       0       0       0       0       0       0       0   \n",
       "1       0       0       0       0       0       0       0       0       0   \n",
       "2       0       0       0       0       0       0       0       0       0   \n",
       "3       0       0       0       0       0       0       0       0       0   \n",
       "4       0       0       0       0       0       0       0       0       0   \n",
       "\n",
       "   pixel9  ...  pixel774  pixel775  pixel776  pixel777  pixel778  pixel779  \\\n",
       "0       0  ...         0         0         0         0         0         0   \n",
       "1       0  ...         0         0         0         0         0         0   \n",
       "2       0  ...         0         0         0         0         0         0   \n",
       "3       0  ...         0         0         0         0         0         0   \n",
       "4       0  ...         0         0         0         0         0         0   \n",
       "\n",
       "   pixel780  pixel781  pixel782  pixel783  \n",
       "0         0         0         0         0  \n",
       "1         0         0         0         0  \n",
       "2         0         0         0         0  \n",
       "3         0         0         0         0  \n",
       "4         0         0         0         0  \n",
       "\n",
       "[5 rows x 784 columns]"
      ]
     },
     "execution_count": 12,
     "metadata": {},
     "output_type": "execute_result"
    }
   ],
   "source": [
    "test_data = pd.read_csv(\"/kaggle/input/digit-recognizer/test.csv\")\n",
    "test_data.head()"
   ]
  },
  {
   "cell_type": "code",
   "execution_count": 13,
   "id": "6b53d66b",
   "metadata": {
    "execution": {
     "iopub.execute_input": "2024-04-20T18:04:16.457315Z",
     "iopub.status.busy": "2024-04-20T18:04:16.456917Z",
     "iopub.status.idle": "2024-04-20T18:04:16.463517Z",
     "shell.execute_reply": "2024-04-20T18:04:16.462413Z"
    },
    "papermill": {
     "duration": 0.01885,
     "end_time": "2024-04-20T18:04:16.465779",
     "exception": false,
     "start_time": "2024-04-20T18:04:16.446929",
     "status": "completed"
    },
    "tags": []
   },
   "outputs": [],
   "source": [
    "class TestDataset(Dataset):\n",
    "    def __init__(self, data, transform=None):\n",
    "        self.data = data\n",
    "        self.transform = transform\n",
    "\n",
    "    def __len__(self):\n",
    "        return self.data.shape[0]\n",
    "    \n",
    "    def __getitem__(self, index):\n",
    "        image = np.expand_dims((self.data[index].reshape(28, 28)), axis=-1)\n",
    "            \n",
    "        if self.transform is not None:\n",
    "            image = self.transform(image)\n",
    "            \n",
    "        return image"
   ]
  },
  {
   "cell_type": "code",
   "execution_count": 14,
   "id": "2ecf15f1",
   "metadata": {
    "execution": {
     "iopub.execute_input": "2024-04-20T18:04:16.484953Z",
     "iopub.status.busy": "2024-04-20T18:04:16.484611Z",
     "iopub.status.idle": "2024-04-20T18:04:16.543827Z",
     "shell.execute_reply": "2024-04-20T18:04:16.542740Z"
    },
    "papermill": {
     "duration": 0.071622,
     "end_time": "2024-04-20T18:04:16.546393",
     "exception": false,
     "start_time": "2024-04-20T18:04:16.474771",
     "status": "completed"
    },
    "tags": []
   },
   "outputs": [],
   "source": [
    "test_dataset = TestDataset(test_data.to_numpy().astype(np.float32), transform=data_tfs)\n",
    "test_loader = torch.utils.data.DataLoader(test_dataset, batch_size=64, shuffle=False, pin_memory=True)"
   ]
  },
  {
   "cell_type": "code",
   "execution_count": 15,
   "id": "d53d69ab",
   "metadata": {
    "execution": {
     "iopub.execute_input": "2024-04-20T18:04:16.565819Z",
     "iopub.status.busy": "2024-04-20T18:04:16.565124Z",
     "iopub.status.idle": "2024-04-20T18:04:20.893678Z",
     "shell.execute_reply": "2024-04-20T18:04:20.892862Z"
    },
    "papermill": {
     "duration": 4.34085,
     "end_time": "2024-04-20T18:04:20.896187",
     "exception": false,
     "start_time": "2024-04-20T18:04:16.555337",
     "status": "completed"
    },
    "tags": []
   },
   "outputs": [],
   "source": [
    "result = []\n",
    "\n",
    "model.eval()\n",
    "for x_batch in test_loader:\n",
    "    with torch.no_grad():\n",
    "        outp = model(x_batch)\n",
    "        preds = outp.argmax(1)\n",
    "        result += preds.tolist()"
   ]
  },
  {
   "cell_type": "code",
   "execution_count": 16,
   "id": "31eb80fa",
   "metadata": {
    "execution": {
     "iopub.execute_input": "2024-04-20T18:04:20.915649Z",
     "iopub.status.busy": "2024-04-20T18:04:20.914678Z",
     "iopub.status.idle": "2024-04-20T18:04:20.937639Z",
     "shell.execute_reply": "2024-04-20T18:04:20.936524Z"
    },
    "papermill": {
     "duration": 0.035099,
     "end_time": "2024-04-20T18:04:20.939867",
     "exception": false,
     "start_time": "2024-04-20T18:04:20.904768",
     "status": "completed"
    },
    "tags": []
   },
   "outputs": [
    {
     "data": {
      "text/html": [
       "<div>\n",
       "<style scoped>\n",
       "    .dataframe tbody tr th:only-of-type {\n",
       "        vertical-align: middle;\n",
       "    }\n",
       "\n",
       "    .dataframe tbody tr th {\n",
       "        vertical-align: top;\n",
       "    }\n",
       "\n",
       "    .dataframe thead th {\n",
       "        text-align: right;\n",
       "    }\n",
       "</style>\n",
       "<table border=\"1\" class=\"dataframe\">\n",
       "  <thead>\n",
       "    <tr style=\"text-align: right;\">\n",
       "      <th></th>\n",
       "      <th>ImageId</th>\n",
       "      <th>Label</th>\n",
       "    </tr>\n",
       "  </thead>\n",
       "  <tbody>\n",
       "    <tr>\n",
       "      <th>0</th>\n",
       "      <td>1</td>\n",
       "      <td>0</td>\n",
       "    </tr>\n",
       "    <tr>\n",
       "      <th>1</th>\n",
       "      <td>2</td>\n",
       "      <td>0</td>\n",
       "    </tr>\n",
       "    <tr>\n",
       "      <th>2</th>\n",
       "      <td>3</td>\n",
       "      <td>0</td>\n",
       "    </tr>\n",
       "    <tr>\n",
       "      <th>3</th>\n",
       "      <td>4</td>\n",
       "      <td>0</td>\n",
       "    </tr>\n",
       "    <tr>\n",
       "      <th>4</th>\n",
       "      <td>5</td>\n",
       "      <td>0</td>\n",
       "    </tr>\n",
       "  </tbody>\n",
       "</table>\n",
       "</div>"
      ],
      "text/plain": [
       "   ImageId  Label\n",
       "0        1      0\n",
       "1        2      0\n",
       "2        3      0\n",
       "3        4      0\n",
       "4        5      0"
      ]
     },
     "execution_count": 16,
     "metadata": {},
     "output_type": "execute_result"
    }
   ],
   "source": [
    "submission = pd.read_csv(\"/kaggle/input/digit-recognizer/sample_submission.csv\")\n",
    "submission.head()"
   ]
  },
  {
   "cell_type": "code",
   "execution_count": 17,
   "id": "8923d8ef",
   "metadata": {
    "execution": {
     "iopub.execute_input": "2024-04-20T18:04:20.959574Z",
     "iopub.status.busy": "2024-04-20T18:04:20.958934Z",
     "iopub.status.idle": "2024-04-20T18:04:20.976966Z",
     "shell.execute_reply": "2024-04-20T18:04:20.975843Z"
    },
    "papermill": {
     "duration": 0.030575,
     "end_time": "2024-04-20T18:04:20.979178",
     "exception": false,
     "start_time": "2024-04-20T18:04:20.948603",
     "status": "completed"
    },
    "tags": []
   },
   "outputs": [
    {
     "data": {
      "text/html": [
       "<div>\n",
       "<style scoped>\n",
       "    .dataframe tbody tr th:only-of-type {\n",
       "        vertical-align: middle;\n",
       "    }\n",
       "\n",
       "    .dataframe tbody tr th {\n",
       "        vertical-align: top;\n",
       "    }\n",
       "\n",
       "    .dataframe thead th {\n",
       "        text-align: right;\n",
       "    }\n",
       "</style>\n",
       "<table border=\"1\" class=\"dataframe\">\n",
       "  <thead>\n",
       "    <tr style=\"text-align: right;\">\n",
       "      <th></th>\n",
       "      <th>ImageId</th>\n",
       "      <th>Label</th>\n",
       "    </tr>\n",
       "  </thead>\n",
       "  <tbody>\n",
       "    <tr>\n",
       "      <th>0</th>\n",
       "      <td>1</td>\n",
       "      <td>2</td>\n",
       "    </tr>\n",
       "    <tr>\n",
       "      <th>1</th>\n",
       "      <td>2</td>\n",
       "      <td>0</td>\n",
       "    </tr>\n",
       "    <tr>\n",
       "      <th>2</th>\n",
       "      <td>3</td>\n",
       "      <td>9</td>\n",
       "    </tr>\n",
       "    <tr>\n",
       "      <th>3</th>\n",
       "      <td>4</td>\n",
       "      <td>0</td>\n",
       "    </tr>\n",
       "    <tr>\n",
       "      <th>4</th>\n",
       "      <td>5</td>\n",
       "      <td>3</td>\n",
       "    </tr>\n",
       "    <tr>\n",
       "      <th>...</th>\n",
       "      <td>...</td>\n",
       "      <td>...</td>\n",
       "    </tr>\n",
       "    <tr>\n",
       "      <th>27995</th>\n",
       "      <td>27996</td>\n",
       "      <td>9</td>\n",
       "    </tr>\n",
       "    <tr>\n",
       "      <th>27996</th>\n",
       "      <td>27997</td>\n",
       "      <td>7</td>\n",
       "    </tr>\n",
       "    <tr>\n",
       "      <th>27997</th>\n",
       "      <td>27998</td>\n",
       "      <td>3</td>\n",
       "    </tr>\n",
       "    <tr>\n",
       "      <th>27998</th>\n",
       "      <td>27999</td>\n",
       "      <td>9</td>\n",
       "    </tr>\n",
       "    <tr>\n",
       "      <th>27999</th>\n",
       "      <td>28000</td>\n",
       "      <td>2</td>\n",
       "    </tr>\n",
       "  </tbody>\n",
       "</table>\n",
       "<p>28000 rows × 2 columns</p>\n",
       "</div>"
      ],
      "text/plain": [
       "       ImageId  Label\n",
       "0            1      2\n",
       "1            2      0\n",
       "2            3      9\n",
       "3            4      0\n",
       "4            5      3\n",
       "...        ...    ...\n",
       "27995    27996      9\n",
       "27996    27997      7\n",
       "27997    27998      3\n",
       "27998    27999      9\n",
       "27999    28000      2\n",
       "\n",
       "[28000 rows x 2 columns]"
      ]
     },
     "execution_count": 17,
     "metadata": {},
     "output_type": "execute_result"
    }
   ],
   "source": [
    "submission['Label'] = result\n",
    "submission"
   ]
  },
  {
   "cell_type": "code",
   "execution_count": 18,
   "id": "abd6eaed",
   "metadata": {
    "execution": {
     "iopub.execute_input": "2024-04-20T18:04:20.999045Z",
     "iopub.status.busy": "2024-04-20T18:04:20.998658Z",
     "iopub.status.idle": "2024-04-20T18:04:21.025472Z",
     "shell.execute_reply": "2024-04-20T18:04:21.024392Z"
    },
    "papermill": {
     "duration": 0.03983,
     "end_time": "2024-04-20T18:04:21.028059",
     "exception": false,
     "start_time": "2024-04-20T18:04:20.988229",
     "status": "completed"
    },
    "tags": []
   },
   "outputs": [],
   "source": [
    "submission.to_csv(\"/kaggle/working/submission.csv\", index=None)"
   ]
  }
 ],
 "metadata": {
  "kaggle": {
   "accelerator": "none",
   "dataSources": [
    {
     "databundleVersionId": 861823,
     "sourceId": 3004,
     "sourceType": "competition"
    }
   ],
   "dockerImageVersionId": 30698,
   "isGpuEnabled": false,
   "isInternetEnabled": true,
   "language": "python",
   "sourceType": "notebook"
  },
  "kernelspec": {
   "display_name": "Python 3",
   "language": "python",
   "name": "python3"
  },
  "language_info": {
   "codemirror_mode": {
    "name": "ipython",
    "version": 3
   },
   "file_extension": ".py",
   "mimetype": "text/x-python",
   "name": "python",
   "nbconvert_exporter": "python",
   "pygments_lexer": "ipython3",
   "version": "3.10.13"
  },
  "papermill": {
   "default_parameters": {},
   "duration": 152.47201,
   "end_time": "2024-04-20T18:04:22.463332",
   "environment_variables": {},
   "exception": null,
   "input_path": "__notebook__.ipynb",
   "output_path": "__notebook__.ipynb",
   "parameters": {},
   "start_time": "2024-04-20T18:01:49.991322",
   "version": "2.5.0"
  }
 },
 "nbformat": 4,
 "nbformat_minor": 5
}
